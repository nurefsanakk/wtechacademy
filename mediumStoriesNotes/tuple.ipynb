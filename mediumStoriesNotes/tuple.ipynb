{
 "cells": [
  {
   "cell_type": "markdown",
   "metadata": {},
   "source": [
    "#### Tuple\n",
    "- () ya da virgül ile tanımlanır.\n",
    "- index ile erişilebilir.\n",
    "- Değiştirilemez yani oluşturulduktan sonra eleman ekleme ya da silme işlemi yapılamaz.\n",
    "- Farklı tipte veriler içerebilir.\n",
    "- Aynı değere sahip iki eleman barındırabilir.(Duplicate veri bulundurur)"
   ]
  },
  {
   "cell_type": "code",
   "execution_count": null,
   "metadata": {},
   "outputs": [],
   "source": [
    "#() ile tuple tanımlaması\n",
    "int_tuple = (1,2,3,4)  #int tuple tanımlaması\n",
    "mix_tuple = (\"Nigar\",\"Nurefşan\",14,True,[\"Kedi\",2.5,1]) #Farklı tipte elemanlar barındıran tuple tanımlaması"
   ]
  },
  {
   "cell_type": "code",
   "execution_count": 3,
   "metadata": {},
   "outputs": [
    {
     "name": "stdout",
     "output_type": "stream",
     "text": [
      "<class 'tuple'>\n"
     ]
    }
   ],
   "source": [
    "#virgül ile tuple tanımlaması\n",
    "my_tuple = \"Nigar\",\"Nurefşan\",14\n",
    "print(type(my_tuple))"
   ]
  },
  {
   "cell_type": "code",
   "execution_count": 6,
   "metadata": {},
   "outputs": [
    {
     "name": "stdout",
     "output_type": "stream",
     "text": [
      "<class 'str'>\n",
      "<class 'tuple'>\n"
     ]
    }
   ],
   "source": [
    "#bu tanımlamada \",\" bulunmadığı için tip str olarak dönmüştür.\n",
    "my_tuple = \"Nigar\"\n",
    "print(type(my_tuple))\n",
    "#yazdığımız değer eğer bir adet ise sonuna \",\" koyarak onu tuple haline getiririz.\n",
    "my_tuple1 = \"Nigar\",\n",
    "print(type(my_tuple1))"
   ]
  },
  {
   "cell_type": "code",
   "execution_count": 13,
   "metadata": {},
   "outputs": [
    {
     "name": "stdout",
     "output_type": "stream",
     "text": [
      "Nurefşan 2022 True\n"
     ]
    }
   ],
   "source": [
    "my_tuple = \"Nurefşan\", 2022, True\n",
    "name, year, male = my_tuple #tuple değerlerini tanımladığımız değişkenlere atadık.\n",
    "print(name, year, male)"
   ]
  },
  {
   "cell_type": "code",
   "execution_count": 12,
   "metadata": {},
   "outputs": [
    {
     "data": {
      "text/plain": [
       "(['Kedi', 2.5, 1], True, 14, 'Nurefşan', 'Nigar')"
      ]
     },
     "execution_count": 12,
     "metadata": {},
     "output_type": "execute_result"
    }
   ],
   "source": [
    "my_tuple = (\"Nigar\",\"Nurefşan\",14,True,[\"Kedi\",2.5,1])\n",
    "my_tuple[1]\n",
    "my_tuple[0:]\n",
    "my_tuple[::-1]"
   ]
  },
  {
   "cell_type": "code",
   "execution_count": 14,
   "metadata": {},
   "outputs": [
    {
     "name": "stdout",
     "output_type": "stream",
     "text": [
      "N\n",
      "U\n",
      "R\n",
      "E\n",
      "F\n",
      "Ş\n",
      "A\n",
      "N\n"
     ]
    }
   ],
   "source": [
    "my_tuple = ('N', 'U', 'R', 'E', 'F', 'Ş', 'A', 'N')\n",
    "for i in range(len(my_tuple)):\n",
    "    print(my_tuple[i])"
   ]
  },
  {
   "cell_type": "code",
   "execution_count": 18,
   "metadata": {},
   "outputs": [
    {
     "name": "stdout",
     "output_type": "stream",
     "text": [
      "1\n",
      "2\n"
     ]
    }
   ],
   "source": [
    "#index methodu\n",
    "my_tuple = (\"Nigar\",\"Nurefşan\",14,True,[\"Kedi\",2.5,1])\n",
    "print(my_tuple.index(\"Nurefşan\"))\n",
    "print(my_tuple.index(14,1,4)) #2 değerini 1 ve 4 indisleri arasında arar ve bulduğu indisi yazar"
   ]
  },
  {
   "cell_type": "code",
   "execution_count": 20,
   "metadata": {},
   "outputs": [
    {
     "data": {
      "text/plain": [
       "2"
      ]
     },
     "execution_count": 20,
     "metadata": {},
     "output_type": "execute_result"
    }
   ],
   "source": [
    "#count methodu\n",
    "my_tuple = ('N', 'U', 'R', 'E', 'F', 'Ş', 'A', 'N',1,1,2,1)\n",
    "my_tuple.count(\"N\")"
   ]
  },
  {
   "cell_type": "code",
   "execution_count": 19,
   "metadata": {},
   "outputs": [
    {
     "name": "stdout",
     "output_type": "stream",
     "text": [
      "Aradığınız Eleman listede bulunmuyor \n"
     ]
    }
   ],
   "source": [
    "#Kullanıcıdan alınan elemanın tuple içerisinde bulunup bulunmadığını sorgulayan kod bloğu\n",
    "\n",
    "my_tuple = (\"Python\",\"Java\",\"Ruby\",\"JavaScript\",\"Python\",\"Java\",\"python\")\n",
    " \n",
    "input = input(\"Eleman Giriniz->\")\n",
    "if input in my_tuple:\n",
    "    print(\"Aradığınız Elemen listede {}. index te bulunuyor\".format(my_tuple.index(input)))\n",
    "else:\n",
    "    print(\"Aradığınız Eleman listede bulunmuyor \")"
   ]
  }
 ],
 "metadata": {
  "kernelspec": {
   "display_name": "Python 3.10.4 ('gpu-env')",
   "language": "python",
   "name": "python3"
  },
  "language_info": {
   "codemirror_mode": {
    "name": "ipython",
    "version": 3
   },
   "file_extension": ".py",
   "mimetype": "text/x-python",
   "name": "python",
   "nbconvert_exporter": "python",
   "pygments_lexer": "ipython3",
   "version": "3.10.4"
  },
  "orig_nbformat": 4,
  "vscode": {
   "interpreter": {
    "hash": "3f43a2b2ece46735cd43f92de84bf1ead8acb80a1b018aaf5da74d975eef3f06"
   }
  }
 },
 "nbformat": 4,
 "nbformat_minor": 2
}
