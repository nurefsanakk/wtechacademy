{
 "cells": [
  {
   "cell_type": "markdown",
   "metadata": {},
   "source": [
    "#### Temel Dosya İşlemleri\n",
    "- Dosyayı açmak\n",
    "- Dosyadan veri okumak\n",
    "- Dosyanın içine veri yazmak\n",
    "- Dosyayı kapatmak"
   ]
  },
  {
   "cell_type": "markdown",
   "metadata": {},
   "source": [
    "##### Dosya Oluşturma\n",
    "- Dosya oluşturuken kullandığımız modlar vardır. Bunlar;\n",
    "- r : Okumak için bir dosya açar. Dosya yoksa hata verir.\n",
    "- w : Yazmak için bir dosya açar. Dosya mevcut değilse yeni bir dosya açar. Dosya varsa dosyayı keser.\n",
    "- x : Özel oluşturma için dosya açar. Dosya zaten varsa işlem başarısız olur.\n",
    "- a : Dosyayı kesmeden sonuna eklemek için dosya açar. Dosya yoksa yeni bir dosya oluşturur.\n",
    "- t : Metin modunda dosya açılır.\n",
    "- b : İkili modda açılır.\n",
    "- + : Gücelleme için bir dosya açar ( okuma veya yazma)."
   ]
  },
  {
   "cell_type": "code",
   "execution_count": 15,
   "metadata": {},
   "outputs": [],
   "source": [
    "#Dosya Oluşturma\n",
    "file = open(\"names.txt\", \"w\") # yazma modunda dosya açar.\n",
    "file.write(\"Nurefşan \")\n",
    "file.write(\"\\n\")\n",
    "file.close() #dosyayı kapatır."
   ]
  },
  {
   "cell_type": "code",
   "execution_count": 16,
   "metadata": {},
   "outputs": [],
   "source": [
    "my_list = [\"Ayşe \",\"Nigar \",\"Eslem \",\"Hasan Efe \",\"Esra \",\"Halil \",\"Bahar \"]\n",
    "file = open(\"names.txt\",\"a\") #Dosyanın üstüne eklenmesi istediğimiz için a mdunda açtık\n",
    "for i in my_list:\n",
    "    file.write(i + \"\\n\")\n",
    "file.close()"
   ]
  },
  {
   "cell_type": "code",
   "execution_count": 17,
   "metadata": {},
   "outputs": [
    {
     "name": "stdout",
     "output_type": "stream",
     "text": [
      "Nurefşan \n",
      "Ayşe \n",
      "Nigar \n",
      "Eslem \n",
      "Hasan Efe \n",
      "Esra \n",
      "Halil \n",
      "Bahar \n",
      "\n"
     ]
    }
   ],
   "source": [
    "# with open ile dosya açma\n",
    "with open(\"names.txt\",\"r\") as file:\n",
    "    print(file.read())"
   ]
  },
  {
   "cell_type": "code",
   "execution_count": 19,
   "metadata": {},
   "outputs": [
    {
     "name": "stdout",
     "output_type": "stream",
     "text": [
      "Nurefşan \n",
      "\n"
     ]
    }
   ],
   "source": [
    "#Dosya okuma yöntemleri\n",
    "with open(\"names.txt\",\"r\") as file:\n",
    "    line = file.readline() #ilk satırı okumamızı sağlar.\n",
    "    print(line)"
   ]
  },
  {
   "cell_type": "code",
   "execution_count": 20,
   "metadata": {},
   "outputs": [
    {
     "name": "stdout",
     "output_type": "stream",
     "text": [
      "Nurefşan \n",
      "\n",
      "Ayşe \n",
      "\n",
      "Nigar \n",
      "\n",
      "Eslem \n",
      "\n",
      "Hasan Efe \n",
      "\n",
      "Esra \n",
      "\n",
      "Halil \n",
      "\n",
      "Bahar \n",
      "\n"
     ]
    }
   ],
   "source": [
    "#Tüm dosyayı satır satır okur\n",
    "with open(\"names.txt\",\"r\") as file:\n",
    "    lines = file.readlines() #ilk satırı okumamızı sağlar.\n",
    "    for line in lines:\n",
    "        print(line)"
   ]
  },
  {
   "cell_type": "code",
   "execution_count": 30,
   "metadata": {},
   "outputs": [
    {
     "name": "stdout",
     "output_type": "stream",
     "text": [
      "şan \n",
      "Ayşe \n",
      "Nigar \n",
      "Eslem \n",
      "Hasan Efe \n",
      "Esra \n",
      "Halil \n",
      "Bahar \n",
      "\n"
     ]
    }
   ],
   "source": [
    "#Dosyada arama file.seek(imlecKonumu)\n",
    "with open(\"names.txt\",\"r\") as file:\n",
    "    file.seek(5) #Nurefşan'ın şan kısmıın yazılmasına sebep olur\n",
    "    print(file.read())\n",
    "    file.seek(0,2) #İmleç dosyanın sonuna gider\n"
   ]
  },
  {
   "cell_type": "code",
   "execution_count": 33,
   "metadata": {},
   "outputs": [
    {
     "name": "stdout",
     "output_type": "stream",
     "text": [
      "names_list.txt dosyası bulundu\n"
     ]
    }
   ],
   "source": [
    "#Dosyayı yeniden adlandırma\n",
    "import os\n",
    "with open(\"names.txt\",\"w\") as file:\n",
    "    file.write(\"Python\\n\")\n",
    "os.rename(\"names.txt\",\"name_list.txt\")\n",
    "\n",
    "if os.path.exists(\"names.txt\"):\n",
    "    print(\"names.txt dosyası bulundu\")\n",
    "elif os.path.exists(\"name_list.txt\"):\n",
    "    print(\"names_list.txt dosyası bulundu\")\n",
    "else:\n",
    "    print(\"Dosya bulunamadı\")"
   ]
  },
  {
   "cell_type": "code",
   "execution_count": 35,
   "metadata": {},
   "outputs": [],
   "source": [
    "#Dosya Silme\n",
    "os.remove(\"name_list.txt\")"
   ]
  },
  {
   "cell_type": "code",
   "execution_count": 21,
   "metadata": {},
   "outputs": [
    {
     "name": "stdout",
     "output_type": "stream",
     "text": [
      "Bahar \n",
      "\n",
      "Halil \n",
      "\n",
      "Esra \n",
      "\n",
      "Hasan Efe \n",
      "\n",
      "Eslem \n",
      "\n",
      "Nigar \n",
      "\n",
      "Ayşe \n",
      "\n",
      "Nurefşan \n",
      "\n"
     ]
    }
   ],
   "source": [
    "#Örnek: Dosyanızı okuyup, ters çevirip ekrana yazan kodu yazınız.\n",
    "with open(\"names.txt\",\"r\") as file:\n",
    "    lines = file.readlines() \n",
    "    for line in reversed(lines):\n",
    "        print(line)"
   ]
  },
  {
   "cell_type": "code",
   "execution_count": 14,
   "metadata": {},
   "outputs": [
    {
     "name": "stdout",
     "output_type": "stream",
     "text": [
      "Dosya aranan dizinde bulunamamıştır!\n"
     ]
    }
   ],
   "source": [
    "#Örnek: Dosyanın aranan dizinde olup olmadığını kontrol edelim.\n",
    "import os\n",
    "if os.path.exists(\"name.txt\"):\n",
    "    with open(\"name.txt\",\"r\") as file:\n",
    "        print(file.read())\n",
    "else:\n",
    "    print(\"Dosya aranan dizinde bulunamamıştır!\")"
   ]
  }
 ],
 "metadata": {
  "kernelspec": {
   "display_name": "Python 3.10.4 ('gpu-env')",
   "language": "python",
   "name": "python3"
  },
  "language_info": {
   "codemirror_mode": {
    "name": "ipython",
    "version": 3
   },
   "file_extension": ".py",
   "mimetype": "text/x-python",
   "name": "python",
   "nbconvert_exporter": "python",
   "pygments_lexer": "ipython3",
   "version": "3.10.4"
  },
  "orig_nbformat": 4,
  "vscode": {
   "interpreter": {
    "hash": "3f43a2b2ece46735cd43f92de84bf1ead8acb80a1b018aaf5da74d975eef3f06"
   }
  }
 },
 "nbformat": 4,
 "nbformat_minor": 2
}
