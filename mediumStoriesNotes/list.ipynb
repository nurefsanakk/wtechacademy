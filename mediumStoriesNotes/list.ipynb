{
 "cells": [
  {
   "cell_type": "markdown",
   "metadata": {},
   "source": [
    "### List\n",
    "#### Bu ipynb dosyası listeler ile ilgili çalışmalar içermektedir."
   ]
  },
  {
   "cell_type": "code",
   "execution_count": 1,
   "metadata": {},
   "outputs": [],
   "source": [
    "#Listeler köşeli parantez ile tanımlanır.\n",
    "my_list = []         #Boş liste tanımı\n",
    "my_list_int = [1,2,3,4]  #Sadece int elemanlara sahip liste\n",
    "my_list_mix = [\"Nurefşan\", 22, True, 1.70, \"SistersLab\"]  #Farklı tiplerde elemanlara sahip liste"
   ]
  },
  {
   "cell_type": "code",
   "execution_count": 7,
   "metadata": {},
   "outputs": [
    {
     "data": {
      "text/plain": [
       "'Nurefşan'"
      ]
     },
     "execution_count": 7,
     "metadata": {},
     "output_type": "execute_result"
    }
   ],
   "source": [
    "my_list = [\"Nurefşan\", 22, True, 1.70, \"SistersLab\"]\n",
    "\n",
    "my_list[0]   #listenin içindeki elemanlara indeksler ile erişilebilir"
   ]
  },
  {
   "cell_type": "code",
   "execution_count": 9,
   "metadata": {},
   "outputs": [
    {
     "data": {
      "text/plain": [
       "'SistersLab'"
      ]
     },
     "execution_count": 9,
     "metadata": {},
     "output_type": "execute_result"
    }
   ],
   "source": [
    "my_list = [\"Nurefşan\", 22, True, 1.70, \"SistersLab\"]\n",
    "\n",
    "my_list[-1]   #negaitf indisler ile erişim sağlanabilir, listenin sonundaki elemanı yazdırır."
   ]
  },
  {
   "cell_type": "code",
   "execution_count": 11,
   "metadata": {},
   "outputs": [
    {
     "data": {
      "text/plain": [
       "[22, True, 1.7]"
      ]
     },
     "execution_count": 11,
     "metadata": {},
     "output_type": "execute_result"
    }
   ],
   "source": [
    "my_list = [\"Nurefşan\", 22, True, 1.70, \"SistersLab\"]\n",
    "\n",
    "my_list[1:4]  #belli bir indis aralığına ulaşılabilir\n",
    "              #bu tanımlamada 1 dahil edilir ancak 4 dahil edilmez\n",
    "my_list[::2]  #birer indis atlayarak ekrana yazar\n",
    "my_list[:4]   #ilk 4 indiste bulunan elemanı ekrana yazdırır\n",
    "my_list[::-1] #listenin tersten yazılmasını sağlar\n",
    "my_list[1:]   #1. indisten itibaren bulunan tüm elemanları yazar."
   ]
  },
  {
   "cell_type": "code",
   "execution_count": 12,
   "metadata": {},
   "outputs": [
    {
     "data": {
      "text/plain": [
       "5"
      ]
     },
     "execution_count": 12,
     "metadata": {},
     "output_type": "execute_result"
    }
   ],
   "source": [
    "my_list = [\"Nurefşan\", 22, True, 1.70, \"SistersLab\"]\n",
    "\n",
    "len(my_list)   #len methodu ile listebin uzunluğu bulunabilir"
   ]
  },
  {
   "cell_type": "code",
   "execution_count": 17,
   "metadata": {},
   "outputs": [
    {
     "data": {
      "text/plain": [
       "['Nurefşan', 22, True, 1.7, 'SistersLab', 25]"
      ]
     },
     "execution_count": 17,
     "metadata": {},
     "output_type": "execute_result"
    }
   ],
   "source": [
    "#litelere eleman ekleme append methodu ile yapılır.\n",
    "#append listenin sonuna ekleme yapar. Tek parametre alır.\n",
    "my_list = [\"Nurefşan\", 22, True, 1.70, \"SistersLab\"]\n",
    "\n",
    "my_list.append(25)\n",
    "my_list \n"
   ]
  },
  {
   "cell_type": "code",
   "execution_count": 21,
   "metadata": {},
   "outputs": [
    {
     "data": {
      "text/plain": [
       "['Nurefşan', 22, True, 'Python', 1.7, 'SistersLab']"
      ]
     },
     "execution_count": 21,
     "metadata": {},
     "output_type": "execute_result"
    }
   ],
   "source": [
    "#listenin istebilen indisine ekleme yapabilir.\n",
    "#indis ve eklenecek eleman olmak üzere iki parametre alır\n",
    "my_list = [\"Nurefşan\", 22, True, 1.70, \"SistersLab\"]\n",
    "\n",
    "my_list.insert(3,\"Python\")\n",
    "my_list"
   ]
  },
  {
   "cell_type": "code",
   "execution_count": 23,
   "metadata": {},
   "outputs": [
    {
     "data": {
      "text/plain": [
       "['Nigar', 22, True, 1.7, 'SistersLab']"
      ]
     },
     "execution_count": 23,
     "metadata": {},
     "output_type": "execute_result"
    }
   ],
   "source": [
    "#lieteler elemanlar üzerinde değişiklik yapmaya izin verir.\n",
    "my_list = [\"Nurefşan\", 22, True, 1.70, \"SistersLab\"]\n",
    "\n",
    "my_list[0] = \"Nigar\"  #bu işlem ile Nurefşan'ın yerine Nigar yazar.\n",
    "my_list"
   ]
  },
  {
   "cell_type": "code",
   "execution_count": 31,
   "metadata": {},
   "outputs": [],
   "source": [
    "#listelerde eleman silmek için remove, pop ve del methotları kullanılır.\n",
    "my_list = [\"Nurefşan\", 22, True, 1.70, \"SistersLab\"]\n",
    "\n",
    "my_list.remove(1.70) #belirli bir elemanı silmek istediğimiz zaman kullanırız.\n",
    "my_list.pop(0)       #belirli bir indisi silmek istediğimiz zaman kullanırız.\n",
    "my_list.pop()        #indis numarası verilmezse son eleman silinir.\n",
    "del my_list[1:3]     #verilen indis aralığında bulunan elemanları siler.\n",
    "del my_list          #indis umarası verilmez ise listeyi siler."
   ]
  },
  {
   "cell_type": "code",
   "execution_count": 33,
   "metadata": {},
   "outputs": [],
   "source": [
    "#listeler copy() methodu ve = operatörü ile kopyalanabilirler. artık copy_list, my_list'in aynısır.\n",
    "my_list = [\"Nurefşan\", 22, True, 1.70, \"SistersLab\"]\n",
    "\n",
    "copy_list = my_list.copy()\n",
    "copy_list = my_list"
   ]
  },
  {
   "cell_type": "markdown",
   "metadata": {},
   "source": [
    "- copy methodu ana listeyi kaybetmek istemediğmiz zamanlarda kullanılabilir."
   ]
  },
  {
   "cell_type": "code",
   "execution_count": 36,
   "metadata": {},
   "outputs": [
    {
     "name": "stdout",
     "output_type": "stream",
     "text": [
      "[1, 2, 3, 4, 5, 6, 7, 8, 9, 10]\n",
      "['a', 'a', 'b', 'g', 's', 's', 'y']\n"
     ]
    }
   ],
   "source": [
    "#listeler sort methodu ile sıralanabilir.\n",
    "numbers = [10,7,6,2,3,4,5,9,8,1]\n",
    "letters = ['a', 'g', 's', 'b', 'y', 'a', 's']\n",
    "\n",
    "numbers.sort()  # sayısal büyüklük olarak küçükten büyüğe sıralanır.\n",
    "letters.sort()  # alfabetik olarak a-z' e doğru sıralanır.\n",
    "\n",
    "print(numbers)\n",
    "print(letters)\n"
   ]
  },
  {
   "cell_type": "code",
   "execution_count": 38,
   "metadata": {},
   "outputs": [
    {
     "name": "stdout",
     "output_type": "stream",
     "text": [
      "10\n",
      "1\n"
     ]
    }
   ],
   "source": [
    "#listelerin içerisindeki max ve min elemanlar bulunailir.\n",
    "numbers = [10,7,6,2,3,4,5,9,8,1]\n",
    "\n",
    "print(max(numbers))     #en büyük elemanı bulur\n",
    "print(min(numbers))     #en küçük elemanı bulur."
   ]
  },
  {
   "cell_type": "code",
   "execution_count": 40,
   "metadata": {},
   "outputs": [
    {
     "data": {
      "text/plain": [
       "['SistersLab', 1.7, True, 22, 'Nurefşan']"
      ]
     },
     "execution_count": 40,
     "metadata": {},
     "output_type": "execute_result"
    }
   ],
   "source": [
    "#reverse methodu ile listeler ters çevirilebilir.\n",
    "my_list = [\"Nurefşan\", 22, True, 1.70, \"SistersLab\"]\n",
    "\n",
    "my_list.reverse()\n",
    "my_list"
   ]
  },
  {
   "cell_type": "code",
   "execution_count": 46,
   "metadata": {},
   "outputs": [
    {
     "name": "stdout",
     "output_type": "stream",
     "text": [
      "Nurefşan =  2\n",
      "22 =  2\n",
      "True =  1\n",
      "1.70 =  3\n",
      "SistersLab =  3\n"
     ]
    }
   ],
   "source": [
    "#count methodu ile liste içerisindeki tekrarlayan elemanlar bulunabilir.\n",
    "my_list = [\"Nurefşan\", 22, 1.70, \"SistersLab\", \"Nurefşan\", 22, 1.70, \"SistersLab\", True, 1.70, \"SistersLab\"]\n",
    "print(\"Nurefşan = \", my_list.count(\"Nurefşan\"))\n",
    "print(\"22 = \", my_list.count(22))\n",
    "print(\"True = \", my_list.count(True))\n",
    "print(\"1.70 = \", my_list.count(1.70))\n",
    "print(\"SistersLab = \", my_list.count(\"SistersLab\"))\n"
   ]
  },
  {
   "cell_type": "code",
   "execution_count": 47,
   "metadata": {},
   "outputs": [
    {
     "data": {
      "text/plain": [
       "['Nurefşan',\n",
       " 'AK',\n",
       " 2018,\n",
       " ['Student', 'Konya Teknük Üniversitesi', 'Lisans'],\n",
       " 18,\n",
       " 'Çankırı']"
      ]
     },
     "execution_count": 47,
     "metadata": {},
     "output_type": "execute_result"
    }
   ],
   "source": [
    "#iç içe listeler\n",
    "my_list = [\"Nurefşan\", \"AK\", 2018, [\"Student\", \"Konya Teknük Üniversitesi\", \"Lisans\"], 18, \"Çankırı\"]\n",
    "my_list"
   ]
  },
  {
   "cell_type": "markdown",
   "metadata": {},
   "source": [
    "##### Listeler ile yapılabilecek örnekler"
   ]
  },
  {
   "cell_type": "code",
   "execution_count": 66,
   "metadata": {},
   "outputs": [
    {
     "name": "stdout",
     "output_type": "stream",
     "text": [
      "Seçilen Kişi:  Nurefşan\n"
     ]
    }
   ],
   "source": [
    "#Sınıf listesinden random öğrenci seçme\n",
    "import random\n",
    "students = [\"Ceren\", \"Selin\", \"Elif Naz\", \"İlkay\", \"Nurdan\", \"Ayça\", \"Ayşe Beril\", \"Begüm\", \"Bilge\", \"Nurcan\", \"Burcu\", \"Elvan\", \"idil\", \"Sevda\", \"Nurefşan\", \"Işınsu\", \"Ayşe Aktağ\", \"Elif Çelik\", \"Aylin\", \"Buket\", \"Ceydanur\", \"Fadime\", \"Sema\", \"İlayda\", \"Yağmur\"]\n",
    "\n",
    "value = random.randint(0, len(students) - 1)\n",
    "\n",
    "print(\"Seçilen Kişi: \", students[value])"
   ]
  },
  {
   "cell_type": "code",
   "execution_count": 72,
   "metadata": {},
   "outputs": [
    {
     "name": "stdout",
     "output_type": "stream",
     "text": [
      "[1, 2, 6, 4, 5, 12, 6, 7, 8, 6]\n",
      "[1, 2, 6, 4, 5, 12, 'a', 6, 7, 8, 6]\n"
     ]
    }
   ],
   "source": [
    "#Kullanıcıdan alınan sayıyı listede random bir yere ekleyip, eklenen sayıdan sonraki indise a yazınız.\n",
    "import random\n",
    "my_list = [1,2,6,4,5,6,7,8,6]\n",
    "new_list = []\n",
    "\n",
    "num = int(input(\"Listeye eklenmesini istediğiniz değeri giriniz ->\"))\n",
    "value = random.randint(0, len(my_list)-1)\n",
    "my_list.insert(value, num)\n",
    "\n",
    "for i in my_list:\n",
    "    new_list.append(i)\n",
    "    if i == num:\n",
    "        new_list.append(\"a\")\n",
    "\n",
    "print(my_list)\n",
    "print(new_list)\n"
   ]
  },
  {
   "cell_type": "code",
   "execution_count": 75,
   "metadata": {},
   "outputs": [
    {
     "name": "stdout",
     "output_type": "stream",
     "text": [
      "[1, 2, 5, 6, 9, 10]\n",
      "[1, 3, 5, 7, 9, 11]\n"
     ]
    }
   ],
   "source": [
    "#bir liste içerisindeki çift sayıların değerlerini kareleri ile değiştirin\n",
    "my_list = [1, 2, 5, 6, 9, 10]\n",
    "new_list = []\n",
    "for i in my_list:\n",
    "    if i % 2 == 0:\n",
    "        new_list.append(i+1)\n",
    "    else:\n",
    "        new_list.append(i)\n",
    "        \n",
    "print(my_list)\n",
    "print(new_list)"
   ]
  },
  {
   "cell_type": "code",
   "execution_count": 76,
   "metadata": {},
   "outputs": [
    {
     "name": "stdout",
     "output_type": "stream",
     "text": [
      "[1, 2, 3, 4, 6, 7, 8]\n"
     ]
    }
   ],
   "source": [
    "#bir liste içerisindeki duplicate olan değerleri silin\n",
    "my_list = [1,2,3,4,1,2,7,6,8,2]\n",
    "unique_list = []\n",
    "\n",
    "for i in my_list:\n",
    "    if i not in unique_list:\n",
    "        unique_list.append(i)\n",
    "        \n",
    "unique_list.sort()\n",
    "print(unique_list)"
   ]
  }
 ],
 "metadata": {
  "kernelspec": {
   "display_name": "Python 3.9.12",
   "language": "python",
   "name": "python3"
  },
  "language_info": {
   "codemirror_mode": {
    "name": "ipython",
    "version": 3
   },
   "file_extension": ".py",
   "mimetype": "text/x-python",
   "name": "python",
   "nbconvert_exporter": "python",
   "pygments_lexer": "ipython3",
   "version": "3.9.12"
  },
  "orig_nbformat": 4,
  "vscode": {
   "interpreter": {
    "hash": "3d1d0acc8812401187e1d12648635f316c1d5bc814dfa8257275a5c5eb0d0c4a"
   }
  }
 },
 "nbformat": 4,
 "nbformat_minor": 2
}
