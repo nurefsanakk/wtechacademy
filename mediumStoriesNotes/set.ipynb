{
 "cells": [
  {
   "cell_type": "markdown",
   "metadata": {},
   "source": [
    "#### SET\n",
    "- Setler sıralanamaz, index ile erişilemez.\n",
    "- Eleman ekleme ya da silme işlemi yapılabilir ancak setin içerisinde bulunan bir eleman değiştirilemez\n",
    "- Duplicate(aynı değere sahip) veri bulunduramaz.\n",
    "- Farklı tipte veriler barındırabilir.\n",
    "- {} ile tanımlanır ve elemanlar \",\" ile ayrılır.\n"
   ]
  },
  {
   "cell_type": "code",
   "execution_count": 1,
   "metadata": {},
   "outputs": [],
   "source": [
    "#Set tanımlama\n",
    "int_set = {1,2,3,4}\n",
    "string_set = {\"Nurefşan\",\"Nigar\",\"Mehmet\",\"Fatih\"}\n",
    "mix_set = {\"Nigar\",\"Kedi\",2.5,2022}"
   ]
  },
  {
   "cell_type": "code",
   "execution_count": 9,
   "metadata": {},
   "outputs": [
    {
     "ename": "TypeError",
     "evalue": "unhashable type: 'list'",
     "output_type": "error",
     "traceback": [
      "\u001b[1;31m---------------------------------------------------------------------------\u001b[0m",
      "\u001b[1;31mTypeError\u001b[0m                                 Traceback (most recent call last)",
      "\u001b[1;32mUntitled-1.ipynb Hücre 3\u001b[0m in \u001b[0;36m<cell line: 2>\u001b[1;34m()\u001b[0m\n\u001b[0;32m      <a href='vscode-notebook-cell:Untitled-1.ipynb?jupyter-notebook#ch0000009untitled?line=0'>1</a>\u001b[0m \u001b[39m#Set Tanımlama\u001b[39;00m\n\u001b[1;32m----> <a href='vscode-notebook-cell:Untitled-1.ipynb?jupyter-notebook#ch0000009untitled?line=1'>2</a>\u001b[0m mix_set \u001b[39m=\u001b[39m {[\u001b[39m\"\u001b[39m\u001b[39mNigar\u001b[39m\u001b[39m\"\u001b[39m,\u001b[39m\"\u001b[39m\u001b[39mKedi\u001b[39m\u001b[39m\"\u001b[39m,\u001b[39m2022\u001b[39m],\u001b[39m\"\u001b[39m\u001b[39mNurefşan\u001b[39m\u001b[39m\"\u001b[39m,\u001b[39m\"\u001b[39m\u001b[39mİnsan\u001b[39m\u001b[39m\"\u001b[39m,\u001b[39m\"\u001b[39m\u001b[39m1999\u001b[39m\u001b[39m\"\u001b[39m}\n\u001b[0;32m      <a href='vscode-notebook-cell:Untitled-1.ipynb?jupyter-notebook#ch0000009untitled?line=2'>3</a>\u001b[0m mix_set\n",
      "\u001b[1;31mTypeError\u001b[0m: unhashable type: 'list'"
     ]
    }
   ],
   "source": [
    "#Setlerin içerisinde list bulunmaz.\n",
    "mix_set = {[\"Nigar\",\"Kedi\",2022],\"Nurefşan\",\"İnsan\",\"1999\"}\n",
    "mix_set"
   ]
  },
  {
   "cell_type": "code",
   "execution_count": 12,
   "metadata": {},
   "outputs": [
    {
     "name": "stdout",
     "output_type": "stream",
     "text": [
      "<class 'str'> Nurefşan\n",
      "<class 'tuple'> ('Nigar', 'Kedi', 2022)\n",
      "<class 'str'> İnsan\n",
      "<class 'int'> 1999\n"
     ]
    }
   ],
   "source": [
    "#setlerin içerisinde tuple veri yapısı bulunabilir.\n",
    "mix_set = {(\"Nigar\",\"Kedi\",2022),\"Nurefşan\",\"İnsan\",1999}\n",
    "mix_set\n",
    "for i in mix_set:\n",
    "    print(type(i), i)"
   ]
  },
  {
   "cell_type": "code",
   "execution_count": 3,
   "metadata": {},
   "outputs": [
    {
     "name": "stdout",
     "output_type": "stream",
     "text": [
      "<class 'dict'>\n",
      "<class 'set'>\n"
     ]
    }
   ],
   "source": [
    "#boş set tanımlama\n",
    "my_set = {} #bu tanımlama şekli dict verilere aittir. Set veri yapıları bu şekilde tanımlanmaz.\n",
    "print(type(my_set))\n",
    "my_set1 = set() #boş set tanımlaması bu şekildedir.\n",
    "print(type(my_set1))"
   ]
  },
  {
   "cell_type": "code",
   "execution_count": 6,
   "metadata": {},
   "outputs": [
    {
     "name": "stdout",
     "output_type": "stream",
     "text": [
      "Kedi\n",
      "2.5\n",
      "2022\n",
      "Nigar\n"
     ]
    }
   ],
   "source": [
    "#Set elemanlarına döngüler erişim\n",
    "my_set = {\"Nigar\",\"Kedi\",2.5,2022}\n",
    "for i in my_set:  \n",
    "    print(i)"
   ]
  },
  {
   "cell_type": "code",
   "execution_count": 8,
   "metadata": {},
   "outputs": [
    {
     "name": "stdout",
     "output_type": "stream",
     "text": [
      "True\n",
      "False\n"
     ]
    }
   ],
   "source": [
    "#set elemanlarına in ile erişim\n",
    "my_set = {\"Nigar\",\"Kedi\",2.5,2022}\n",
    "print(\"Kedi\" in my_set) #boolean sonuç döndürür\n",
    "print(\"nigar\" in my_set) #büyük-küçük harf duyarlıdır."
   ]
  },
  {
   "cell_type": "code",
   "execution_count": 5,
   "metadata": {},
   "outputs": [
    {
     "name": "stdout",
     "output_type": "stream",
     "text": [
      "{1, 2, 3, 4, 5}\n"
     ]
    }
   ],
   "source": [
    "#duplicate veriler setlerden kaldırılır.\n",
    "my_set = {1, 3, 4, 2, 1, 3, 4, 2, 5}\n",
    "print(my_set) "
   ]
  },
  {
   "cell_type": "code",
   "execution_count": 14,
   "metadata": {},
   "outputs": [
    {
     "name": "stdout",
     "output_type": "stream",
     "text": [
      "{'Serenad', 'İnce Memed', 'Küçük Prens', 'Şeker Portakalı', 'Harry Potter'}\n"
     ]
    }
   ],
   "source": [
    "#Set veri yapısına add metodu ile eleman ekleme\n",
    "books = {\"Serenad\", \"Küçük Prens\", \"Şeker Portakalı\", \"Harry Potter\"}\n",
    "books.add(\"İnce Memed\")\n",
    "print(books)"
   ]
  },
  {
   "cell_type": "code",
   "execution_count": 15,
   "metadata": {},
   "outputs": [
    {
     "name": "stdout",
     "output_type": "stream",
     "text": [
      "{'Serenad', 'Küçük Prens', 'Şeker Portakalı', 'Harry Potter', 'Demir Ökçe', '1984'}\n"
     ]
    }
   ],
   "source": [
    "#Set veri yapısına update metodu ile eleman ekleme\n",
    "books = {\"Serenad\", \"Küçük Prens\", \"Şeker Portakalı\", \"Harry Potter\"}\n",
    "books.update([\"Demir Ökçe\", \"1984\"])\n",
    "print(books)"
   ]
  },
  {
   "cell_type": "code",
   "execution_count": 17,
   "metadata": {},
   "outputs": [
    {
     "name": "stdout",
     "output_type": "stream",
     "text": [
      "{0, 1, 2, 3, 4, 6, 7, 8, 9}\n"
     ]
    }
   ],
   "source": [
    "#Set veri yapısından remove metodu ile eleman silme, olmayan bir elemanı silmeye çalıştığımızda hata verir\n",
    "numbers= {0,1,2,3,4,5,6,7,8,9}\n",
    "numbers.remove(5)\n",
    "print(numbers)"
   ]
  },
  {
   "cell_type": "code",
   "execution_count": 19,
   "metadata": {},
   "outputs": [
    {
     "name": "stdout",
     "output_type": "stream",
     "text": [
      "{0, 1, 2, 4, 5, 6, 7, 8, 9}\n"
     ]
    }
   ],
   "source": [
    "#Set veri yapısından discard metodu ile eleman silme, olmayan bir elemanı silmeye çalışırsak hata vermez.\n",
    "numbers= {0,1,2,3,4,5,6,7,8,9}\n",
    "numbers.discard(3)\n",
    "print(numbers)"
   ]
  },
  {
   "cell_type": "code",
   "execution_count": 20,
   "metadata": {},
   "outputs": [
    {
     "name": "stdout",
     "output_type": "stream",
     "text": [
      "{1, 2, 3, 4, 5, 6, 7, 8, 9}\n"
     ]
    }
   ],
   "source": [
    "#Set veri yapısından pop metodu ile eleman silme\n",
    "numbers= {0,1,2,3,4,5,6,7,8,9} #ratgele bir elemanı siler.\n",
    "numbers.pop()\n",
    "print(numbers)"
   ]
  },
  {
   "cell_type": "code",
   "execution_count": null,
   "metadata": {},
   "outputs": [],
   "source": [
    "#Set veri yapısından pop metodu ile eleman silme\n",
    "numbers= {0,1,2,3,4,5,6,7,8,9} #ratgele bir elemanı siler.\n",
    "numbers.pop()\n",
    "print(numbers)"
   ]
  },
  {
   "cell_type": "code",
   "execution_count": 21,
   "metadata": {},
   "outputs": [
    {
     "name": "stdout",
     "output_type": "stream",
     "text": [
      "set()\n"
     ]
    }
   ],
   "source": [
    "#Set veri yapısından clear metodu ile eleman silme\n",
    "numbers= {0,1,2,3,4,5,6,7,8,9} #tüm elemanları silip boş bir set çıktısı verir.\n",
    "numbers.clear()\n",
    "print(numbers)"
   ]
  },
  {
   "cell_type": "code",
   "execution_count": 22,
   "metadata": {},
   "outputs": [
    {
     "ename": "NameError",
     "evalue": "name 'numbers' is not defined",
     "output_type": "error",
     "traceback": [
      "\u001b[1;31m---------------------------------------------------------------------------\u001b[0m",
      "\u001b[1;31mNameError\u001b[0m                                 Traceback (most recent call last)",
      "\u001b[1;32mUntitled-1.ipynb Hücre 16\u001b[0m in \u001b[0;36m<cell line: 4>\u001b[1;34m()\u001b[0m\n\u001b[0;32m      <a href='vscode-notebook-cell:Untitled-1.ipynb?jupyter-notebook#ch0000018untitled?line=1'>2</a>\u001b[0m numbers\u001b[39m=\u001b[39m {\u001b[39m0\u001b[39m,\u001b[39m1\u001b[39m,\u001b[39m2\u001b[39m,\u001b[39m3\u001b[39m,\u001b[39m4\u001b[39m,\u001b[39m5\u001b[39m,\u001b[39m6\u001b[39m,\u001b[39m7\u001b[39m,\u001b[39m8\u001b[39m,\u001b[39m9\u001b[39m} \n\u001b[0;32m      <a href='vscode-notebook-cell:Untitled-1.ipynb?jupyter-notebook#ch0000018untitled?line=2'>3</a>\u001b[0m \u001b[39mdel\u001b[39;00m numbers\n\u001b[1;32m----> <a href='vscode-notebook-cell:Untitled-1.ipynb?jupyter-notebook#ch0000018untitled?line=3'>4</a>\u001b[0m \u001b[39mprint\u001b[39m(numbers)\n",
      "\u001b[1;31mNameError\u001b[0m: name 'numbers' is not defined"
     ]
    }
   ],
   "source": [
    "#Set veri yapısını del ile silme\n",
    "numbers= {0,1,2,3,4,5,6,7,8,9} \n",
    "del numbers\n",
    "print(numbers) #numbersı tamamen sildi."
   ]
  },
  {
   "cell_type": "code",
   "execution_count": 24,
   "metadata": {},
   "outputs": [
    {
     "name": "stdout",
     "output_type": "stream",
     "text": [
      "| ile birleştirilmiş set-> {'Asena', 'Başak', 'Bircan', 'Emre', 'Bilal', 'Burak'}\n",
      "union ile birleştirilmiş set-> {'Asena', 'Başak', 'Bircan', 'Emre', 'Bilal', 'Burak'}\n"
     ]
    }
   ],
   "source": [
    "#union veya | ile set birleştirme\n",
    "my_set1 = {\"Asena\", \"Başak\", \"Bircan\", \"Emre\"}\n",
    "my_set2 = {\"Emre\", \"Burak\", \"Bilal\"}\n",
    "\n",
    "#birleştirilmiş setlerde de duplicate veri bulunmaz. İki setin tüm elemanlarını tekrar etmeyecek şekilde birleştirir.\n",
    "my_set3 = my_set1 | my_set2\n",
    "my_set4 = my_set1.union(my_set2)\n",
    "print(\"| ile birleştirilmiş set->\",my_set3) \n",
    "print(\"union ile birleştirilmiş set->\",my_set4)\n"
   ]
  },
  {
   "cell_type": "code",
   "execution_count": 25,
   "metadata": {},
   "outputs": [
    {
     "name": "stdout",
     "output_type": "stream",
     "text": [
      "& ile kesişim-> {'Emre'}\n",
      "intersection ile kesişim-> {'Emre'}\n"
     ]
    }
   ],
   "source": [
    "#intersection veya & ile setlerin kesişimini almak.\n",
    "my_set1 = {\"Asena\", \"Başak\", \"Bircan\", \"Emre\"}\n",
    "my_set2 = {\"Emre\", \"Burak\", \"Bilal\"}\n",
    "\n",
    "#birleştirilmiş setlerde de duplicate veri bulunmaz. İki setin tüm elemanlarını tekrar etmeyecek şekilde birleştirir.\n",
    "my_set3 = my_set1 & my_set2\n",
    "my_set4 = my_set1.intersection(my_set2)\n",
    "print(\"& ile kesişim->\",my_set3) \n",
    "print(\"intersection ile kesişim->\",my_set4)"
   ]
  },
  {
   "cell_type": "code",
   "execution_count": 26,
   "metadata": {},
   "outputs": [
    {
     "name": "stdout",
     "output_type": "stream",
     "text": [
      "{'Emre'}\n"
     ]
    }
   ],
   "source": [
    "#orijinal seti kesişim kümesi ile güncellemek için intersection_update kullanılır.\n",
    "my_set1 = {\"Asena\", \"Başak\", \"Bircan\", \"Emre\"}\n",
    "my_set2 = {\"Emre\", \"Burak\", \"Bilal\"}\n",
    "\n",
    "my_set1.intersection_update(my_set2)\n",
    "print(my_set1)"
   ]
  },
  {
   "cell_type": "code",
   "execution_count": 27,
   "metadata": {},
   "outputs": [
    {
     "name": "stdout",
     "output_type": "stream",
     "text": [
      "- ile fark-> {'Başak', 'Asena', 'Bircan'}\n",
      "difference ile fark-> {'Başak', 'Asena', 'Bircan'}\n"
     ]
    }
   ],
   "source": [
    "#differance veya - ile setlerde fark işlemi\n",
    "my_set1 = {\"Asena\", \"Başak\", \"Bircan\", \"Emre\"}\n",
    "my_set2 = {\"Emre\", \"Burak\", \"Bilal\"}\n",
    "\n",
    "my_set3 = my_set1 - my_set2 #set1'in set2'den farkını alır.\n",
    "my_set4 = my_set1.difference(my_set2)\n",
    "print(\"- ile fark->\",my_set3) \n",
    "print(\"difference ile fark->\",my_set4)"
   ]
  },
  {
   "cell_type": "code",
   "execution_count": 29,
   "metadata": {},
   "outputs": [
    {
     "name": "stdout",
     "output_type": "stream",
     "text": [
      "Yeni set2-> {'Bilal', 'Burak'}\n"
     ]
    }
   ],
   "source": [
    "#orijinal seti fark ile güncellemek için difference_update metodu kullanılır.\n",
    "my_set1 = {\"Asena\", \"Başak\", \"Bircan\", \"Emre\"}\n",
    "my_set2 = {\"Emre\", \"Burak\", \"Bilal\"}\n",
    "my_set2.difference_update(my_set1)\n",
    "print(\"Yeni set2->\",my_set2)"
   ]
  },
  {
   "cell_type": "code",
   "execution_count": 31,
   "metadata": {},
   "outputs": [
    {
     "name": "stdout",
     "output_type": "stream",
     "text": [
      "^ ile birleştirme-> {'Asena', 'Bircan', 'Burak', 'Başak', 'Bilal'}\n",
      "symmetric_difference ile birleştirme-> {'Asena', 'Bircan', 'Burak', 'Başak', 'Bilal'}\n"
     ]
    }
   ],
   "source": [
    "# ^ veya synmetric_differance ile ortak eleman dışındaki elemanları brileştirmek.\n",
    "#differance veya - ile setlerde fark işlemi\n",
    "my_set1 = {\"Asena\", \"Başak\", \"Bircan\", \"Emre\"}\n",
    "my_set2 = {\"Emre\", \"Burak\", \"Bilal\"}\n",
    "\n",
    "my_set3 = my_set1 ^ my_set2 #set1'in set2'den farkını alır.\n",
    "my_set4 = my_set1.symmetric_difference(my_set2)\n",
    "print(\"^ ile birleştirme->\",my_set3) \n",
    "print(\"symmetric_difference ile birleştirme->\",my_set4)"
   ]
  },
  {
   "cell_type": "code",
   "execution_count": 33,
   "metadata": {},
   "outputs": [
    {
     "name": "stdout",
     "output_type": "stream",
     "text": [
      "{'Macbook', True, 'Iphone', 2022}\n",
      "{'Macbook', True, 'Iphone', 2022}\n"
     ]
    }
   ],
   "source": [
    "# copy metodu ile set kopayalamak\n",
    "my_set = {2022, True, \"Iphone\", \"Macbook\"}\n",
    "\n",
    "my_set2 = my_set.copy()\n",
    "\n",
    "print(my_set)\n",
    "print(my_set2)"
   ]
  },
  {
   "cell_type": "code",
   "execution_count": 37,
   "metadata": {},
   "outputs": [
    {
     "name": "stdout",
     "output_type": "stream",
     "text": [
      "{True, 2022, 'Iphone', 19, 'Macbook'}\n",
      "{True, 2022, 'Iphone', 19, 'Macbook'}\n"
     ]
    }
   ],
   "source": [
    "# = ile set kopyalamak, my_set'e kopyalama işleminden sonra bile eleman eklense o elemanı da kopyalar.\n",
    "my_set = {2022, True, \"Iphone\", \"Macbook\"}\n",
    "\n",
    "my_set2 = my_set\n",
    "my_set.add(19)\n",
    "\n",
    "print(my_set)\n",
    "print(my_set2)"
   ]
  },
  {
   "cell_type": "code",
   "execution_count": 36,
   "metadata": {},
   "outputs": [
    {
     "name": "stdout",
     "output_type": "stream",
     "text": [
      "{'Macbook', True, 'Iphone', 2022}\n",
      "{'Macbook', True, 'Iphone', 2022}\n"
     ]
    }
   ],
   "source": [
    "# set() ile set kopyalamak\n",
    "my_set = {2022, True, \"Iphone\", \"Macbook\"}\n",
    "\n",
    "my_set2 = set(my_set)\n",
    "\n",
    "print(my_set)\n",
    "print(my_set2)"
   ]
  },
  {
   "cell_type": "code",
   "execution_count": 39,
   "metadata": {},
   "outputs": [
    {
     "name": "stdout",
     "output_type": "stream",
     "text": [
      "True\n",
      "False\n"
     ]
    }
   ],
   "source": [
    "#issubset ile alt küme kontrolü\n",
    "my_set = {3, \"Python\", 4, 7, True}\n",
    "sub_set = {\"Python\"}\n",
    "\n",
    "print(sub_set.issubset(my_set)) #sub_set my_set'in alt kümesi mi\n",
    "print(my_set.issubset(sub_set)) #my_set sub_set'in alt kümesi mi"
   ]
  },
  {
   "cell_type": "code",
   "execution_count": 42,
   "metadata": {},
   "outputs": [
    {
     "name": "stdout",
     "output_type": "stream",
     "text": [
      "False\n",
      "True\n"
     ]
    }
   ],
   "source": [
    "#issuperset ile üst küme kontrolü\n",
    "my_set = {3, \"Python\", 4, 7, True}\n",
    "sub_set = {\"Python\"}\n",
    "\n",
    "print(sub_set.issuperset(my_set)) #sub_set my_set'in üst kümesi mi\n",
    "print(my_set.issuperset(sub_set)) #my_set sub_set'in üst kümesi mi"
   ]
  },
  {
   "cell_type": "code",
   "execution_count": 44,
   "metadata": {},
   "outputs": [
    {
     "ename": "AttributeError",
     "evalue": "'frozenset' object has no attribute 'add'",
     "output_type": "error",
     "traceback": [
      "\u001b[1;31m---------------------------------------------------------------------------\u001b[0m",
      "\u001b[1;31mAttributeError\u001b[0m                            Traceback (most recent call last)",
      "\u001b[1;32mUntitled-1.ipynb Hücre 28\u001b[0m in \u001b[0;36m<cell line: 6>\u001b[1;34m()\u001b[0m\n\u001b[0;32m      <a href='vscode-notebook-cell:Untitled-1.ipynb?jupyter-notebook#ch0000030untitled?line=2'>3</a>\u001b[0m name_set \u001b[39m=\u001b[39m {\u001b[39m\"\u001b[39m\u001b[39mNigar\u001b[39m\u001b[39m\"\u001b[39m, \u001b[39m\"\u001b[39m\u001b[39mNurefşan\u001b[39m\u001b[39m\"\u001b[39m, \u001b[39m\"\u001b[39m\u001b[39mMehmet\u001b[39m\u001b[39m\"\u001b[39m}\n\u001b[0;32m      <a href='vscode-notebook-cell:Untitled-1.ipynb?jupyter-notebook#ch0000030untitled?line=3'>4</a>\u001b[0m frozen_set \u001b[39m=\u001b[39m \u001b[39mfrozenset\u001b[39m(name_set)\n\u001b[1;32m----> <a href='vscode-notebook-cell:Untitled-1.ipynb?jupyter-notebook#ch0000030untitled?line=5'>6</a>\u001b[0m frozen_set\u001b[39m.\u001b[39;49madd(\u001b[39m\"\u001b[39m\u001b[39mFatih\u001b[39m\u001b[39m\"\u001b[39m)\n\u001b[0;32m      <a href='vscode-notebook-cell:Untitled-1.ipynb?jupyter-notebook#ch0000030untitled?line=6'>7</a>\u001b[0m frozen_set\u001b[39m.\u001b[39mremove(\u001b[39m\"\u001b[39m\u001b[39mNigar\u001b[39m\u001b[39m\"\u001b[39m)\n",
      "\u001b[1;31mAttributeError\u001b[0m: 'frozenset' object has no attribute 'add'"
     ]
    }
   ],
   "source": [
    "#Değişmez bir ser oluşturmak için frozenset() metodu kullanılır. \n",
    "# Frozenset üzerinde eleman ekleme ve silme gibi işlemler yapılamaz.\n",
    "name_set = {\"Nigar\", \"Nurefşan\", \"Mehmet\"}\n",
    "frozen_set = frozenset(name_set)\n",
    "\n",
    "frozen_set.add(\"Fatih\")"
   ]
  },
  {
   "cell_type": "code",
   "execution_count": 45,
   "metadata": {},
   "outputs": [
    {
     "name": "stdout",
     "output_type": "stream",
     "text": [
      "{0, 1, 2, 3, 'Nur', 4, 5, 6, 7, 8, 9, 'Nigar'}\n"
     ]
    }
   ],
   "source": [
    "#Bir listenin tüm elemanlarını sete ekleyin.\n",
    "my_list = [1,1,1,2,3,4,5,5,6,7,7,8,9,0]\n",
    "my_set = {\"Nigar\",\"Nur\",1,2,3}\n",
    "my_set.update(my_list) #ekleme işlemi unique olarak yapıldı.\n",
    "print(my_set) \n"
   ]
  },
  {
   "cell_type": "code",
   "execution_count": 7,
   "metadata": {},
   "outputs": [
    {
     "name": "stdout",
     "output_type": "stream",
     "text": [
      "{2}\n",
      "{2, 4}\n",
      "{2, 4, 6}\n",
      "{2, 4, 6}\n",
      "{2, 4, 6}\n",
      "{2, 4, 6}\n",
      "{2, 10, 4, 6}\n",
      "{2, 4, 6, 10, 12}\n",
      "{2, 4, 6, 10, 12, 14}\n",
      "{2, 4, 6, 10, 12, 14, 16}\n"
     ]
    }
   ],
   "source": [
    "# Kullanıcı -1 girine kadar kullanıcıdan alınan sayıların iki katını unique olacak şekilde bir listeye ekleyiniz.\n",
    "my_list = []\n",
    "while(True):\n",
    "    num = int(input(\"Listeye eklenmesini istediğiniz değeri giriniz ->\"))\n",
    "    sayi = int(num)\n",
    "    if sayi<0:\n",
    "        break\n",
    "    new_sayi = sayi*2\n",
    "    my_list.append(new_sayi)\n",
    "    my_set = set(my_list) #listeyi set yaparak unique ekleme yaptık.\n",
    "    print(my_set)"
   ]
  }
 ],
 "metadata": {
  "kernelspec": {
   "display_name": "Python 3.9.12 ('base')",
   "language": "python",
   "name": "python3"
  },
  "language_info": {
   "codemirror_mode": {
    "name": "ipython",
    "version": 3
   },
   "file_extension": ".py",
   "mimetype": "text/x-python",
   "name": "python",
   "nbconvert_exporter": "python",
   "pygments_lexer": "ipython3",
   "version": "3.9.12"
  },
  "orig_nbformat": 4,
  "vscode": {
   "interpreter": {
    "hash": "3d1d0acc8812401187e1d12648635f316c1d5bc814dfa8257275a5c5eb0d0c4a"
   }
  }
 },
 "nbformat": 4,
 "nbformat_minor": 2
}
