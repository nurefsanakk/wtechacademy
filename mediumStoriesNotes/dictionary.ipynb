{
 "cells": [
  {
   "cell_type": "markdown",
   "metadata": {},
   "source": [
    "#### Dictionary\n",
    "- {} ile tanımlanır. Key, value çifti virgüllerle ayrılır.\n",
    "- Unordered yani sıralı değildir. \n",
    "- Index ile erişilemez. Değerlere key üzerinden erişiriz.\n",
    "- Farklı veri tipleri içerebilir.\n",
    "- Dictionary değiştirilebilir(mutable). Ekleme-çıkarma işlemine izin verir. Key'in değeri değiştirilebilir.\n",
    "- Key değerleri unique, value duplicate olabilir."
   ]
  },
  {
   "cell_type": "code",
   "execution_count": 1,
   "metadata": {},
   "outputs": [
    {
     "name": "stdout",
     "output_type": "stream",
     "text": [
      "<class 'dict'>\n",
      "<class 'dict'>\n"
     ]
    }
   ],
   "source": [
    "#Boş Dictionary Tanımlama\n",
    "my_dict = {}\n",
    "print(type(my_dict))\n",
    "myDict = dict()\n",
    "print(type(myDict))"
   ]
  },
  {
   "cell_type": "code",
   "execution_count": 2,
   "metadata": {},
   "outputs": [
    {
     "name": "stdout",
     "output_type": "stream",
     "text": [
      "{'isim': 'Nigar', 'yas': 1}\n",
      "{'isim': 'Nurefşan', 'yas': 22}\n"
     ]
    }
   ],
   "source": [
    "#Dictionary Oluşturma, doğrudan bir sözlük nesnesi oluşturduk.\n",
    "my_dict = {\n",
    "    \"isim\" : \"Nigar\",\n",
    "    \"yas\" : 1\n",
    "}\n",
    "print(my_dict)\n",
    "\n",
    "#Boş bir dictioary oluşturup anahtar ve değerleri sonradan eklemek\n",
    "my_dict1 = {}\n",
    "my_dict1[\"isim\"] = \"Nurefşan\"\n",
    "my_dict1[\"yas\"] = 22\n",
    "print(my_dict1)"
   ]
  },
  {
   "cell_type": "code",
   "execution_count": 3,
   "metadata": {},
   "outputs": [
    {
     "name": "stdout",
     "output_type": "stream",
     "text": [
      "dict()-> {'isim': 'Nurefşan', 'yas': 22, 'num': 1234, 'sehir': 'Çankırı'}\n",
      "dict({})-> {'isim': 'Nigar', 'yas': 1, 'cins': 'kedi'}\n",
      "dict([])-> {'isim': 'Mehmet', 'yas': 25, 'num': 2345, 'sehir': 'Ankara'}\n"
     ]
    }
   ],
   "source": [
    "# dict() metodu ile dictionary tanımlama\n",
    "my_dict2 = dict(isim=\"Nurefşan\", yas=22, num=1234, sehir=\"Çankırı\")\n",
    "print(\"dict()->\",my_dict2)\n",
    "\n",
    "#dict() metodu içinde kıvırcık parantez kullanımı\n",
    "my_dict3 = dict({'isim' : 'Nigar', 'yas' : 1, 'cins' : 'kedi'})\n",
    "print(\"dict({})->\",my_dict3)\n",
    "\n",
    "#dict() metodu içinde köşeli parantez kullanımı\n",
    "my_dict4 = dict([('isim', 'Mehmet'),('yas', 25),('num', 2345)],sehir='Ankara')\n",
    "print(\"dict([])->\",my_dict4)\n"
   ]
  },
  {
   "cell_type": "code",
   "execution_count": 7,
   "metadata": {},
   "outputs": [
    {
     "name": "stdout",
     "output_type": "stream",
     "text": [
      "1990 yılında yayınlanmaya başlayan dizi The Office dizisidir.\n",
      "1994 yılında yayınlanmaya başlayan dizi Friends dizisidir.\n"
     ]
    }
   ],
   "source": [
    "#Dictionary elemanlarına [key] ile erişim\n",
    "movies = {\n",
    "    1990 : \"The Office\",\n",
    "    1994 : \"Friends\",\n",
    "    1996 : \"The Big Bang Theory\"\n",
    "}\n",
    "\n",
    "print(f'1990 yılında yayınlanmaya başlayan dizi {movies[1990]} dizisidir.')\n",
    "\n",
    "#Dictionary elemanlarına get(key) ile erişim\n",
    "print(f'1994 yılında yayınlanmaya başlayan dizi {movies.get(1994)} dizisidir.')\n"
   ]
  },
  {
   "cell_type": "code",
   "execution_count": 8,
   "metadata": {},
   "outputs": [
    {
     "name": "stdout",
     "output_type": "stream",
     "text": [
      "dict_keys([1990, 1994, 1996])\n"
     ]
    }
   ],
   "source": [
    "#keys() metodu ile dictionary içerisindeki key değerlerini öğrenmek\n",
    "movies = {\n",
    "    1990 : \"The Office\",\n",
    "    1994 : \"Friends\",\n",
    "    1996 : \"The Big Bang Theory\"\n",
    "}\n",
    "\n",
    "print(movies.keys())"
   ]
  },
  {
   "cell_type": "code",
   "execution_count": 9,
   "metadata": {},
   "outputs": [
    {
     "name": "stdout",
     "output_type": "stream",
     "text": [
      "dict_values(['The Office', 'Friends', 'The Big Bang Theory'])\n"
     ]
    }
   ],
   "source": [
    "#value() metodu ile dictionary içerisindeki value değerlerini öğrenmek\n",
    "movies = {\n",
    "    1990 : \"The Office\",\n",
    "    1994 : \"Friends\",\n",
    "    1996 : \"The Big Bang Theory\"\n",
    "}\n",
    "\n",
    "print(movies.values())"
   ]
  },
  {
   "cell_type": "code",
   "execution_count": 10,
   "metadata": {},
   "outputs": [
    {
     "name": "stdout",
     "output_type": "stream",
     "text": [
      "dict_items([(1990, 'The Office'), (1994, 'Friends'), (1996, 'The Big Bang Theory')])\n"
     ]
    }
   ],
   "source": [
    "#items() metodu ile dictionary içerisindeki key-value çiftlerine erişmek\n",
    "movies = {\n",
    "    1990 : \"The Office\",\n",
    "    1994 : \"Friends\",\n",
    "    1996 : \"The Big Bang Theory\"\n",
    "}\n",
    "\n",
    "print(movies.items())"
   ]
  },
  {
   "cell_type": "code",
   "execution_count": 18,
   "metadata": {},
   "outputs": [
    {
     "name": "stdout",
     "output_type": "stream",
     "text": [
      "The Office\n",
      "Friends\n",
      "['The Big Bang Theory', 'Person of Interest']\n",
      "\n",
      "(1990, 'The Office')\n",
      "(1994, 'Friends')\n",
      "(1996, ['The Big Bang Theory', 'Person of Interest'])\n",
      "\n",
      "key:1990 | value: The Office\n",
      "key:1994 | value: Friends\n",
      "key:1996 | value: ['The Big Bang Theory', 'Person of Interest']\n"
     ]
    }
   ],
   "source": [
    "# value ve key-value değerlerine for döngüsü ile erişmek\n",
    "movies = {\n",
    "    1990 : \"The Office\",\n",
    "    1994 : \"Friends\",\n",
    "    1996 : [\"The Big Bang Theory\", \"Person of Interest\"]\n",
    "}\n",
    "\n",
    "for movie in movies.values():\n",
    "    print(movie)\n",
    "    if type(movie) == list:\n",
    "        for list in movie:\n",
    "            print(list)\n",
    "print()\n",
    "for movie in movies.items():\n",
    "    print(movie)\n",
    "\n",
    "print()\n",
    "#burada verilen 0 ve 1 değerleri indis değildir. Key 0 value 1 olarak çağırılır.\n",
    "for movie in movies.items():\n",
    "    print(f'key:{movie[0]} | value: {movie[1]}')"
   ]
  },
  {
   "cell_type": "code",
   "execution_count": 19,
   "metadata": {},
   "outputs": [
    {
     "name": "stdout",
     "output_type": "stream",
     "text": [
      "key:1990 | value: The Office\n",
      "key:1994 | value: Friends\n",
      "key:1996 | value: ['The Big Bang Theory', 'Person of Interest']\n",
      "key:1991 | value: Gilmore Girls\n"
     ]
    }
   ],
   "source": [
    "#Dictionary yapısına key-value ile eleman ekleme\n",
    "movies = {\n",
    "    1990 : \"The Office\",\n",
    "    1994 : \"Friends\",\n",
    "    1996 : [\"The Big Bang Theory\", \"Person of Interest\"]\n",
    "}\n",
    "\n",
    "movies[1991] = \"Gilmore Girls\"\n",
    "for movie in movies.items():\n",
    "    print(f'key:{movie[0]} | value: {movie[1]}')\n"
   ]
  },
  {
   "cell_type": "code",
   "execution_count": 20,
   "metadata": {},
   "outputs": [
    {
     "name": "stdout",
     "output_type": "stream",
     "text": [
      "key:1990 | value: Doktor Who\n",
      "key:1994 | value: Friends\n",
      "key:1996 | value: ['The Big Bang Theory', 'Person of Interest']\n"
     ]
    }
   ],
   "source": [
    "#Dictionary yapısında var olan bir değerimn yerine key-value ile eleman ekleme\n",
    "movies = {\n",
    "    1990 : \"The Office\",\n",
    "    1994 : \"Friends\",\n",
    "    1996 : [\"The Big Bang Theory\", \"Person of Interest\"]\n",
    "}\n",
    "#Doktor who The Office'in yerine yazıldı. Yani eski değeri ezdi.\n",
    "movies[1990] = \"Doktor Who\"\n",
    "for movie in movies.items():\n",
    "    print(f'key:{movie[0]} | value: {movie[1]}')"
   ]
  },
  {
   "cell_type": "code",
   "execution_count": 21,
   "metadata": {},
   "outputs": [
    {
     "name": "stdout",
     "output_type": "stream",
     "text": [
      "key:1990 | value: Gilmore Girls\n",
      "key:1994 | value: Friends\n",
      "key:1996 | value: ['The Big Bang Theory', 'Person of Interest']\n",
      "key:1991 | value: Doktor Who\n"
     ]
    }
   ],
   "source": [
    "#Dictionary yapısına update ile eleman ekleme\n",
    "movies = {\n",
    "    1990 : \"The Office\",\n",
    "    1994 : \"Friends\",\n",
    "    1996 : [\"The Big Bang Theory\", \"Person of Interest\"]\n",
    "}\n",
    "#update metodu eleman yoksa ekler varsa var olan değeri ezerek üztüne yazar.\n",
    "movies.update({\n",
    "    1991 : \"Doktor Who\",\n",
    "    1990 : \"Gilmore Girls\"\n",
    "})\n",
    "for movie in movies.items():\n",
    "    print(f'key:{movie[0]} | value: {movie[1]}')"
   ]
  },
  {
   "cell_type": "code",
   "execution_count": 27,
   "metadata": {},
   "outputs": [
    {
     "name": "stdout",
     "output_type": "stream",
     "text": [
      "key:name | value: Nurefşan\n",
      "key:lastName | value: AK\n",
      "key:birthYear | value: 1999\n",
      "key:job | value: Data Engineer\n"
     ]
    }
   ],
   "source": [
    "# Dictionary Silme İşlemleri - Del dict[key], sözlükteki key değerini alır ve siler.\n",
    "person ={\n",
    "    \"name\" : \"Nurefşan\",\n",
    "    \"lastName\" : \"AK\",\n",
    "    \"id\" : 12337423422,\n",
    "    \"birthYear\" : 1999,\n",
    "    \"job\" : \"Data Engineer\",\n",
    "}\n",
    "\n",
    "del person[\"id\"]\n",
    "\n",
    "for i in person.items():\n",
    "    print(f'key:{i[0]} | value: {i[1]}')\n"
   ]
  },
  {
   "cell_type": "code",
   "execution_count": 28,
   "metadata": {},
   "outputs": [
    {
     "name": "stdout",
     "output_type": "stream",
     "text": [
      "{}\n"
     ]
    }
   ],
   "source": [
    "#Dictionary Silme İşlemleri - clear(), sözlükteki bütün elemanları siler.\n",
    "#Boş bir liste döndürür.\n",
    "person ={\n",
    "    \"name\" : \"Nurefşan\",\n",
    "    \"lastName\" : \"AK\",\n",
    "    \"id\" : 12337423422,\n",
    "    \"birthYear\" : 1999,\n",
    "    \"job\" : \"Data Engineer\",\n",
    "}\n",
    "person.clear()\n",
    "print(person)"
   ]
  },
  {
   "cell_type": "code",
   "execution_count": 30,
   "metadata": {},
   "outputs": [
    {
     "ename": "NameError",
     "evalue": "name 'person' is not defined",
     "output_type": "error",
     "traceback": [
      "\u001b[1;31m---------------------------------------------------------------------------\u001b[0m",
      "\u001b[1;31mNameError\u001b[0m                                 Traceback (most recent call last)",
      "\u001b[1;32mc:\\Users\\Nurcum\\Desktop\\wtechacademy\\mediumStoriesNotes\\dictionary.ipynb Hücre 15\u001b[0m in \u001b[0;36m<cell line: 11>\u001b[1;34m()\u001b[0m\n\u001b[0;32m      <a href='vscode-notebook-cell:/c%3A/Users/Nurcum/Desktop/wtechacademy/mediumStoriesNotes/dictionary.ipynb#ch0000014?line=2'>3</a>\u001b[0m person \u001b[39m=\u001b[39m{\n\u001b[0;32m      <a href='vscode-notebook-cell:/c%3A/Users/Nurcum/Desktop/wtechacademy/mediumStoriesNotes/dictionary.ipynb#ch0000014?line=3'>4</a>\u001b[0m     \u001b[39m\"\u001b[39m\u001b[39mname\u001b[39m\u001b[39m\"\u001b[39m : \u001b[39m\"\u001b[39m\u001b[39mNurefşan\u001b[39m\u001b[39m\"\u001b[39m,\n\u001b[0;32m      <a href='vscode-notebook-cell:/c%3A/Users/Nurcum/Desktop/wtechacademy/mediumStoriesNotes/dictionary.ipynb#ch0000014?line=4'>5</a>\u001b[0m     \u001b[39m\"\u001b[39m\u001b[39mlastName\u001b[39m\u001b[39m\"\u001b[39m : \u001b[39m\"\u001b[39m\u001b[39mAK\u001b[39m\u001b[39m\"\u001b[39m,\n\u001b[1;32m   (...)\u001b[0m\n\u001b[0;32m      <a href='vscode-notebook-cell:/c%3A/Users/Nurcum/Desktop/wtechacademy/mediumStoriesNotes/dictionary.ipynb#ch0000014?line=7'>8</a>\u001b[0m     \u001b[39m\"\u001b[39m\u001b[39mjob\u001b[39m\u001b[39m\"\u001b[39m : \u001b[39m\"\u001b[39m\u001b[39mData Engineer\u001b[39m\u001b[39m\"\u001b[39m,\n\u001b[0;32m      <a href='vscode-notebook-cell:/c%3A/Users/Nurcum/Desktop/wtechacademy/mediumStoriesNotes/dictionary.ipynb#ch0000014?line=8'>9</a>\u001b[0m }\n\u001b[0;32m     <a href='vscode-notebook-cell:/c%3A/Users/Nurcum/Desktop/wtechacademy/mediumStoriesNotes/dictionary.ipynb#ch0000014?line=9'>10</a>\u001b[0m \u001b[39mdel\u001b[39;00m person\n\u001b[1;32m---> <a href='vscode-notebook-cell:/c%3A/Users/Nurcum/Desktop/wtechacademy/mediumStoriesNotes/dictionary.ipynb#ch0000014?line=10'>11</a>\u001b[0m \u001b[39mprint\u001b[39m(person)\n",
      "\u001b[1;31mNameError\u001b[0m: name 'person' is not defined"
     ]
    }
   ],
   "source": [
    "#Dictionary Silme İşlemleri - del dict_name, sözlüğü siler.\n",
    "#Dict silimdiği için dicti çağırınca hata verir.\n",
    "person ={\n",
    "    \"name\" : \"Nurefşan\",\n",
    "    \"lastName\" : \"AK\",\n",
    "    \"id\" : 12337423422,\n",
    "    \"birthYear\" : 1999,\n",
    "    \"job\" : \"Data Engineer\",\n",
    "}\n",
    "del person\n",
    "print(person)"
   ]
  },
  {
   "cell_type": "code",
   "execution_count": 31,
   "metadata": {},
   "outputs": [
    {
     "name": "stdout",
     "output_type": "stream",
     "text": [
      "key:name | value: Nurefşan\n",
      "key:lastName | value: AK\n",
      "key:id | value: 12337423422\n",
      "key:birthYear | value: 1999\n"
     ]
    }
   ],
   "source": [
    "#Dictionary Silme İşlemleri - popitem(), sözlükteki son elemanlanı siler.\n",
    "#boş listeye uygulanırsa KeyError: 'popitem(): dictionary is empty' hatası verir.\n",
    "person ={\n",
    "    \"name\" : \"Nurefşan\",\n",
    "    \"lastName\" : \"AK\",\n",
    "    \"id\" : 12337423422,\n",
    "    \"birthYear\" : 1999,\n",
    "    \"job\" : \"Data Engineer\",\n",
    "}\n",
    "\n",
    "person.popitem()\n",
    "\n",
    "for i in person.items():\n",
    "    print(f'key:{i[0]} | value: {i[1]}')"
   ]
  },
  {
   "cell_type": "code",
   "execution_count": 32,
   "metadata": {},
   "outputs": [
    {
     "name": "stdout",
     "output_type": "stream",
     "text": [
      "key:name | value: Nurefşan\n",
      "key:lastName | value: AK\n",
      "key:id | value: 12337423422\n",
      "key:job | value: Data Engineer\n"
     ]
    }
   ],
   "source": [
    "#Dictionary Silme İşlemleri - pop(key), verilen key değerini siler.\n",
    "#Olmayan bir değer verilirse KeyError hatası verir.\n",
    "person ={\n",
    "    \"name\" : \"Nurefşan\",\n",
    "    \"lastName\" : \"AK\",\n",
    "    \"id\" : 12337423422,\n",
    "    \"birthYear\" : 1999,\n",
    "    \"job\" : \"Data Engineer\",\n",
    "}\n",
    "\n",
    "person.pop(\"birthYear\")\n",
    "\n",
    "for i in person.items():\n",
    "    print(f'key:{i[0]} | value: {i[1]}')"
   ]
  },
  {
   "cell_type": "code",
   "execution_count": 33,
   "metadata": {},
   "outputs": [
    {
     "name": "stdout",
     "output_type": "stream",
     "text": [
      "key:1 | value: Adana\n",
      "key:6 | value: Ankara\n",
      "key:18 | value: Çankırı\n",
      "key:34 | value: İstanbul\n",
      "key:7 | value: Antalya\n",
      "key:55 | value: Samsun\n"
     ]
    }
   ],
   "source": [
    "# İki sözlüğü update ile birleştirme\n",
    "plakalar1 = {\n",
    "    1 : \"Adana\",\n",
    "    6 : \"Ankara\",\n",
    "    18 : \"Çankırı\",\n",
    "    34 : \"İstanbul\"\n",
    "}\n",
    "plakalar2 = {\n",
    "    7 : \"Antalya\",\n",
    "    55 : \"Samsun\"\n",
    "}\n",
    "\n",
    "plakalar1.update(plakalar2)\n",
    "for plaka in plakalar1.items():\n",
    "    print(f'key:{plaka[0]} | value: {plaka[1]}')"
   ]
  },
  {
   "cell_type": "code",
   "execution_count": 35,
   "metadata": {},
   "outputs": [
    {
     "name": "stdout",
     "output_type": "stream",
     "text": [
      "key:1 | value: Adana\n",
      "key:6 | value: Ankara\n",
      "key:18 | value: Çankırı\n",
      "key:34 | value: İstanbul\n",
      "key:7 | value: Antalya\n",
      "key:55 | value: Samsun\n"
     ]
    }
   ],
   "source": [
    "# İki sözlüğü ** ile birleştirme\n",
    "plakalar1 = {\n",
    "    1 : \"Adana\",\n",
    "    6 : \"Ankara\",\n",
    "    18 : \"Çankırı\",\n",
    "    34 : \"İstanbul\"\n",
    "}\n",
    "plakalar2 = {\n",
    "    7 : \"Antalya\",\n",
    "    55 : \"Samsun\"\n",
    "}\n",
    "\n",
    "plakalar = {**plakalar1,**plakalar2}\n",
    "for plaka in plakalar.items():\n",
    "    print(f'key:{plaka[0]} | value: {plaka[1]}')"
   ]
  },
  {
   "cell_type": "code",
   "execution_count": 39,
   "metadata": {},
   "outputs": [
    {
     "name": "stdout",
     "output_type": "stream",
     "text": [
      "key:name | value: Nurefşan\n",
      "key:lastName | value: AK\n",
      "key:id | value: 12337423422\n",
      "key:birthYear | value: 1999\n",
      "key:job | value: {'mainJob': 'Data Engineer', 'freelancer': 'xyz Project'}\n"
     ]
    }
   ],
   "source": [
    "#iç içe dictionary\n",
    "#Dictionary Silme İşlemleri - pop(key), verilen key değerini siler.\n",
    "#Olmayan bir değer verilirse KeyError hatası verir.\n",
    "person ={\n",
    "    \"name\" : \"Nurefşan\",\n",
    "    \"lastName\" : \"AK\",\n",
    "    \"id\" : 12337423422,\n",
    "    \"birthYear\" : 1999\n",
    "}\n",
    "jobs = {\n",
    "    \"mainJob\" : \"Data Engineer\",\n",
    "    \"freelancer\" : \"xyz Project\"\n",
    "}\n",
    "person.update({\"job\" : jobs})\n",
    "\n",
    "for i in person.items():\n",
    "    print(f'key:{i[0]} | value: {i[1]}')\n",
    "\n"
   ]
  },
  {
   "cell_type": "code",
   "execution_count": 44,
   "metadata": {},
   "outputs": [
    {
     "name": "stdout",
     "output_type": "stream",
     "text": [
      "key:1 | value: Adana\n",
      "key:6 | value: Ankara\n",
      "key:7 | value: Antalya\n",
      "key:10 | value: Balıkesir\n",
      "key:17 | value: Çanakkale\n",
      "key:18 | value: Çankırı\n",
      "key:25 | value: Erzurum\n",
      "key:28 | value: Giresun\n",
      "key:34 | value: İstanbul\n",
      "key:35 | value: İzmir\n",
      "key:55 | value: Samsun\n",
      "key:57 | value: Sinop\n",
      "key:67 | value: Zonguldak\n",
      "key:78 | value: Karabük\n"
     ]
    }
   ],
   "source": [
    "# plakalardan oluşan iki listeyi birleştirip plaka numaralarına göre sıralayınız.\n",
    "plakalar1 = {\n",
    "    28 : \"Giresun\",\n",
    "    1 : \"Adana\",\n",
    "    18 : \"Çankırı\",\n",
    "    34 : \"İstanbul\",\n",
    "    6 : \"Ankara\",\n",
    "    67 : \"Zonguldak\",\n",
    "    10 : \"Balıkesir\"\n",
    "}\n",
    "plakalar2 = {\n",
    "    17 : \"Çanakkale\",\n",
    "    7 : \"Antalya\",\n",
    "    78 : \"Karabük\",\n",
    "    57 : \"Sinop\",\n",
    "    25 : \"Erzurum\",\n",
    "    55 : \"Samsun\",\n",
    "    35 : \"İzmir\"\n",
    "}\n",
    "plakalar = {**plakalar1, **plakalar2}\n",
    "plakalar = sorted(plakalar.items())\n",
    "\n",
    "for plaka in plakalar:\n",
    "    print(f'key:{plaka[0]} | value: {plaka[1]}')"
   ]
  }
 ],
 "metadata": {
  "kernelspec": {
   "display_name": "Python 3.10.4 ('gpu-env')",
   "language": "python",
   "name": "python3"
  },
  "language_info": {
   "codemirror_mode": {
    "name": "ipython",
    "version": 3
   },
   "file_extension": ".py",
   "mimetype": "text/x-python",
   "name": "python",
   "nbconvert_exporter": "python",
   "pygments_lexer": "ipython3",
   "version": "3.10.4"
  },
  "orig_nbformat": 4,
  "vscode": {
   "interpreter": {
    "hash": "3f43a2b2ece46735cd43f92de84bf1ead8acb80a1b018aaf5da74d975eef3f06"
   }
  }
 },
 "nbformat": 4,
 "nbformat_minor": 2
}
