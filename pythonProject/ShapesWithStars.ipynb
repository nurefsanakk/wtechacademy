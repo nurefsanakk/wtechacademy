{
 "cells": [
  {
   "cell_type": "code",
   "execution_count": 4,
   "metadata": {},
   "outputs": [
    {
     "name": "stdout",
     "output_type": "stream",
     "text": [
      "*\n",
      "**\n",
      "***\n",
      "****\n",
      "*****\n"
     ]
    }
   ],
   "source": [
    "#Dik üçgen\n",
    "rows=5\n",
    "for i in range(1, rows+1):\n",
    "    print(\"*\"*i) # inin değeri kadar yıldız yazar.\n"
   ]
  },
  {
   "cell_type": "code",
   "execution_count": 3,
   "metadata": {},
   "outputs": [
    {
     "name": "stdout",
     "output_type": "stream",
     "text": [
      "*\n",
      "**\n",
      "***\n",
      "****\n",
      "*****\n"
     ]
    }
   ],
   "source": [
    "#İç içe Döngü kullanarak dik üçgen çizimi\n",
    "rows=5\n",
    "for i in range(1, rows+1):\n",
    "  for j in range(1, i+1):\n",
    "    print(\"*\", end= \"\") #*ları yanyana yazabilmek için end kullanılır.\n",
    "  print() # alt satıra gecmek için kullanılır."
   ]
  },
  {
   "cell_type": "code",
   "execution_count": 9,
   "metadata": {},
   "outputs": [
    {
     "name": "stdout",
     "output_type": "stream",
     "text": [
      "*****\n",
      "****\n",
      "***\n",
      "**\n",
      "*\n"
     ]
    }
   ],
   "source": [
    "#Ters Dik Üçgen\n",
    "rows=5\n",
    "for i in range(rows,0,-1): #rows değerinden başlayıp sıfıra -1 adım eksilerek ilerlemesini sağlar\n",
    "    print(\"*\"*i) "
   ]
  },
  {
   "cell_type": "code",
   "execution_count": 12,
   "metadata": {},
   "outputs": [
    {
     "name": "stdout",
     "output_type": "stream",
     "text": [
      "******\n",
      "*****\n",
      "****\n",
      "***\n",
      "**\n",
      "*\n"
     ]
    }
   ],
   "source": [
    "#İç içe Dögüler ile Ters Dik Üçgen Çizimi\n",
    "rows=5\n",
    "for i in range(rows, 0, -1):\n",
    "  for j in range(1, i+1):\n",
    "    print(\"*\", end= \"\") \n",
    "  print() "
   ]
  },
  {
   "cell_type": "code",
   "execution_count": 14,
   "metadata": {},
   "outputs": [
    {
     "name": "stdout",
     "output_type": "stream",
     "text": [
      "     \n",
      "    *\n",
      "   ***\n",
      "  *****\n",
      " *******\n",
      "*********\n",
      " *******\n",
      "  *****\n",
      "   ***\n",
      "    *\n"
     ]
    }
   ],
   "source": [
    "#Baklava Dilimi\n",
    "rows = 5\n",
    "for i in range(rows):\n",
    "    for k in range((rows)-i):\n",
    "        print(\" \",end=\"\")\n",
    "    for m in range(i*2-1):\n",
    "        print(\"*\",end=\"\")\n",
    "    print()\n",
    "for i in range(rows,0,-1):\n",
    "    for k in range((rows)-i):\n",
    "        print(\" \",end=\"\")\n",
    "    for m in range(i*2-1):\n",
    "        print(\"*\",end=\"\")\n",
    "    print()"
   ]
  },
  {
   "cell_type": "code",
   "execution_count": 15,
   "metadata": {},
   "outputs": [
    {
     "name": "stdout",
     "output_type": "stream",
     "text": [
      "          *\n",
      "         ***\n",
      "        *****\n",
      "       *******\n",
      "      *********\n",
      "     ***********\n",
      "    *************\n",
      "   ***************\n",
      "  *****************\n"
     ]
    }
   ],
   "source": [
    "#Piramit\n",
    "rows = 10\n",
    "for i in range(1,rows):\n",
    "    print(\" \"*(rows - i),\"*\"*(i*2-1))"
   ]
  },
  {
   "cell_type": "code",
   "execution_count": 1,
   "metadata": {},
   "outputs": [
    {
     "name": "stdout",
     "output_type": "stream",
     "text": [
      "**********\n",
      " ********\n",
      "  ******\n",
      "   ****\n",
      "    **\n"
     ]
    }
   ],
   "source": [
    "#Ters Piramit Çizimi\n",
    "rows = 5\n",
    "for i in range(rows, 0, -1):\n",
    "    for j in range(0, i):\n",
    "        if j == 0:\n",
    "            print(\" \"* (rows-i) + \"*\"*2, end=\"\")\n",
    "        else:\n",
    "            print(\"*\"*2, end=\"\")\n",
    "    print()"
   ]
  },
  {
   "cell_type": "code",
   "execution_count": 17,
   "metadata": {},
   "outputs": [
    {
     "name": "stdout",
     "output_type": "stream",
     "text": [
      "     *\n",
      "    **\n",
      "   ***\n",
      "  ****\n",
      " *****\n",
      "******\n"
     ]
    }
   ],
   "source": [
    "#Kullanıcının belirlediği satır sayısı ile sağa yatık dik üçgen çizdirme\n",
    "rows = int(input(\"Satır Sayısı Giriniz->\"))\n",
    "for i in range(1, rows+1):\n",
    "  print(\" \"* (rows-i) + \"*\"*i)"
   ]
  }
 ],
 "metadata": {
  "kernelspec": {
   "display_name": "Python 3.10.4 ('gpu-env')",
   "language": "python",
   "name": "python3"
  },
  "language_info": {
   "codemirror_mode": {
    "name": "ipython",
    "version": 3
   },
   "file_extension": ".py",
   "mimetype": "text/x-python",
   "name": "python",
   "nbconvert_exporter": "python",
   "pygments_lexer": "ipython3",
   "version": "3.10.4"
  },
  "orig_nbformat": 4,
  "vscode": {
   "interpreter": {
    "hash": "3f43a2b2ece46735cd43f92de84bf1ead8acb80a1b018aaf5da74d975eef3f06"
   }
  }
 },
 "nbformat": 4,
 "nbformat_minor": 2
}
